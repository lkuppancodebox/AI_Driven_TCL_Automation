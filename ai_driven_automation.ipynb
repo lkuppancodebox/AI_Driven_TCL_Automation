{
  "nbformat": 4,
  "nbformat_minor": 0,
  "metadata": {
    "colab": {
      "provenance": [],
      "authorship_tag": "ABX9TyOh8WxtywBDrSKenkGjIKf3",
      "include_colab_link": true
    },
    "kernelspec": {
      "name": "python3",
      "display_name": "Python 3"
    },
    "language_info": {
      "name": "python"
    }
  },
  "cells": [
    {
      "cell_type": "markdown",
      "metadata": {
        "id": "view-in-github",
        "colab_type": "text"
      },
      "source": [
        "<a href=\"https://colab.research.google.com/github/lkuppancodebox/AI_Driven_TCL_Automation/blob/main/ai_driven_automation.ipynb\" target=\"_parent\"><img src=\"https://colab.research.google.com/assets/colab-badge.svg\" alt=\"Open In Colab\"/></a>"
      ]
    },
    {
      "cell_type": "code",
      "execution_count": 169,
      "metadata": {
        "id": "hS6twKrG6Bqo"
      },
      "outputs": [],
      "source": [
        "import pandas as pd\n",
        "import json\n",
        "import ast  # To safely evaluate dictionary strings\n",
        "import sys\n",
        "#from google.colab import drive\n",
        "#drive.mount('/content/drive')\n",
        "sys.path.append('/content/drive/MyDrive/Colab Notebooks/training_data_set')\n",
        "from gen_prompt import test_block_template, test_script_template, tclLib2Json, generate_prompt\n"
      ]
    },
    {
      "cell_type": "code",
      "source": [
        "pip install google-generativeai"
      ],
      "metadata": {
        "colab": {
          "base_uri": "https://localhost:8080/"
        },
        "id": "UczuPXD4DVDM",
        "outputId": "3635b25d-ccbe-42a9-e440-7d08ee581f6f"
      },
      "execution_count": 170,
      "outputs": [
        {
          "output_type": "stream",
          "name": "stdout",
          "text": [
            "Requirement already satisfied: google-generativeai in /usr/local/lib/python3.11/dist-packages (0.8.4)\n",
            "Requirement already satisfied: google-ai-generativelanguage==0.6.15 in /usr/local/lib/python3.11/dist-packages (from google-generativeai) (0.6.15)\n",
            "Requirement already satisfied: google-api-core in /usr/local/lib/python3.11/dist-packages (from google-generativeai) (2.24.2)\n",
            "Requirement already satisfied: google-api-python-client in /usr/local/lib/python3.11/dist-packages (from google-generativeai) (2.164.0)\n",
            "Requirement already satisfied: google-auth>=2.15.0 in /usr/local/lib/python3.11/dist-packages (from google-generativeai) (2.38.0)\n",
            "Requirement already satisfied: protobuf in /usr/local/lib/python3.11/dist-packages (from google-generativeai) (5.29.4)\n",
            "Requirement already satisfied: pydantic in /usr/local/lib/python3.11/dist-packages (from google-generativeai) (2.10.6)\n",
            "Requirement already satisfied: tqdm in /usr/local/lib/python3.11/dist-packages (from google-generativeai) (4.67.1)\n",
            "Requirement already satisfied: typing-extensions in /usr/local/lib/python3.11/dist-packages (from google-generativeai) (4.12.2)\n",
            "Requirement already satisfied: proto-plus<2.0.0dev,>=1.22.3 in /usr/local/lib/python3.11/dist-packages (from google-ai-generativelanguage==0.6.15->google-generativeai) (1.26.1)\n",
            "Requirement already satisfied: googleapis-common-protos<2.0.0,>=1.56.2 in /usr/local/lib/python3.11/dist-packages (from google-api-core->google-generativeai) (1.69.2)\n",
            "Requirement already satisfied: requests<3.0.0,>=2.18.0 in /usr/local/lib/python3.11/dist-packages (from google-api-core->google-generativeai) (2.32.3)\n",
            "Requirement already satisfied: cachetools<6.0,>=2.0.0 in /usr/local/lib/python3.11/dist-packages (from google-auth>=2.15.0->google-generativeai) (5.5.2)\n",
            "Requirement already satisfied: pyasn1-modules>=0.2.1 in /usr/local/lib/python3.11/dist-packages (from google-auth>=2.15.0->google-generativeai) (0.4.1)\n",
            "Requirement already satisfied: rsa<5,>=3.1.4 in /usr/local/lib/python3.11/dist-packages (from google-auth>=2.15.0->google-generativeai) (4.9)\n",
            "Requirement already satisfied: httplib2<1.dev0,>=0.19.0 in /usr/local/lib/python3.11/dist-packages (from google-api-python-client->google-generativeai) (0.22.0)\n",
            "Requirement already satisfied: google-auth-httplib2<1.0.0,>=0.2.0 in /usr/local/lib/python3.11/dist-packages (from google-api-python-client->google-generativeai) (0.2.0)\n",
            "Requirement already satisfied: uritemplate<5,>=3.0.1 in /usr/local/lib/python3.11/dist-packages (from google-api-python-client->google-generativeai) (4.1.1)\n",
            "Requirement already satisfied: annotated-types>=0.6.0 in /usr/local/lib/python3.11/dist-packages (from pydantic->google-generativeai) (0.7.0)\n",
            "Requirement already satisfied: pydantic-core==2.27.2 in /usr/local/lib/python3.11/dist-packages (from pydantic->google-generativeai) (2.27.2)\n",
            "Requirement already satisfied: grpcio<2.0dev,>=1.33.2 in /usr/local/lib/python3.11/dist-packages (from google-api-core[grpc]!=2.0.*,!=2.1.*,!=2.10.*,!=2.2.*,!=2.3.*,!=2.4.*,!=2.5.*,!=2.6.*,!=2.7.*,!=2.8.*,!=2.9.*,<3.0.0dev,>=1.34.1->google-ai-generativelanguage==0.6.15->google-generativeai) (1.71.0)\n",
            "Requirement already satisfied: grpcio-status<2.0.dev0,>=1.33.2 in /usr/local/lib/python3.11/dist-packages (from google-api-core[grpc]!=2.0.*,!=2.1.*,!=2.10.*,!=2.2.*,!=2.3.*,!=2.4.*,!=2.5.*,!=2.6.*,!=2.7.*,!=2.8.*,!=2.9.*,<3.0.0dev,>=1.34.1->google-ai-generativelanguage==0.6.15->google-generativeai) (1.71.0)\n",
            "Requirement already satisfied: pyparsing!=3.0.0,!=3.0.1,!=3.0.2,!=3.0.3,<4,>=2.4.2 in /usr/local/lib/python3.11/dist-packages (from httplib2<1.dev0,>=0.19.0->google-api-python-client->google-generativeai) (3.2.1)\n",
            "Requirement already satisfied: pyasn1<0.7.0,>=0.4.6 in /usr/local/lib/python3.11/dist-packages (from pyasn1-modules>=0.2.1->google-auth>=2.15.0->google-generativeai) (0.6.1)\n",
            "Requirement already satisfied: charset-normalizer<4,>=2 in /usr/local/lib/python3.11/dist-packages (from requests<3.0.0,>=2.18.0->google-api-core->google-generativeai) (3.4.1)\n",
            "Requirement already satisfied: idna<4,>=2.5 in /usr/local/lib/python3.11/dist-packages (from requests<3.0.0,>=2.18.0->google-api-core->google-generativeai) (3.10)\n",
            "Requirement already satisfied: urllib3<3,>=1.21.1 in /usr/local/lib/python3.11/dist-packages (from requests<3.0.0,>=2.18.0->google-api-core->google-generativeai) (2.3.0)\n",
            "Requirement already satisfied: certifi>=2017.4.17 in /usr/local/lib/python3.11/dist-packages (from requests<3.0.0,>=2.18.0->google-api-core->google-generativeai) (2025.1.31)\n"
          ]
        }
      ]
    },
    {
      "cell_type": "code",
      "source": [
        "import google.generativeai as genai\n",
        "#from google.colab import drive\n",
        "#drive.mount('/content/drive')\n",
        "import os\n",
        "\n",
        "def Authenticate_model():\n",
        "  # Set your Google Gemini API Key here\n",
        "  with open('/content/drive/MyDrive/Colab Notebooks/training_data_set/api_key.txt', 'r') as file:\n",
        "      API_KEY = file.read().strip()\n",
        "\n",
        "  # Configure the API key\n",
        "  genai.configure(api_key=API_KEY)\n",
        "\n",
        "  # Initialize the model\n",
        "  model = genai.GenerativeModel(\"gemini-2.0-flash\")  # Using Gemini Pro model\n",
        "  return model\n",
        "\n",
        "def Genereate_exos_tcl_automation(model, prompt):\n",
        "    try:\n",
        "        response = model.generate_content(prompt)\n",
        "        return response.text  # Extract text response\n",
        "    except Exception as e:\n",
        "        return f\"Error: {str(e)}\""
      ],
      "metadata": {
        "id": "WQIfzXVFD44i"
      },
      "execution_count": 171,
      "outputs": []
    },
    {
      "cell_type": "code",
      "source": [
        "if __name__ == \"__main__\":\n",
        "\n",
        "  # Read Test Plan from the text file (query)\n",
        "\n",
        "  fid = open(\"/content/drive/MyDrive/Colab Notebooks/training_data_set/Automation_testplan.txt\", \"r\")\n",
        "  query = fid.read()\n",
        "  fid.close()\n",
        "\n",
        "  # Generate TCL Lib into JSON\n",
        "  tcl_lib_json_dataset = tclLib2Json()\n",
        "\n",
        "  # Generate prompt based on test plan and tcl lib\n",
        "  prompt = generate_prompt(query, tcl_lib_json_dataset)\n",
        "\n",
        "  # Initiate Model and generate tcl script\n",
        "  model = Authenticate_model()\n",
        "  response = Genereate_exos_tcl_automation(model, prompt)\n",
        "\n",
        "  # Remove junk and filter script file name\n",
        "  tcl_content=''\n",
        "  for eachline in response.split(\"\\n\"):\n",
        "    if \"proc\" in eachline:\n",
        "      filename = eachline.split(\" \")[1]\n",
        "    if  \"```\" in eachline:\n",
        "      continue\n",
        "    else:\n",
        "      tcl_content += eachline + \"\\n\"\n",
        "    tcl_filename = filename + \".tcl\"\n",
        "\n",
        "  # Write AI Response into the script file\n",
        "  with open('/content/drive/MyDrive/Colab Notebooks/Output/'+tcl_filename, 'w') as file:\n",
        "    file.write(tcl_content)\n",
        "\n",
        "  # Display generated script file\n",
        "  if os.path.exists('/content/drive/MyDrive/Colab Notebooks/Output/'+tcl_filename):\n",
        "      print(f\"File '/content/drive/MyDrive/Colab Notebooks/Output/{tcl_filename}' Generated Successlly !\")"
      ],
      "metadata": {
        "colab": {
          "base_uri": "https://localhost:8080/",
          "height": 34
        },
        "id": "w4tZYtefBc0Z",
        "outputId": "f5022c46-d01d-401e-e47e-d8d044f0b809"
      },
      "execution_count": 172,
      "outputs": [
        {
          "output_type": "stream",
          "name": "stdout",
          "text": [
            "File '/content/drive/MyDrive/Colab Notebooks/Output/F-11212121.tcl' Generated Successlly !\n"
          ]
        }
      ]
    },
    {
      "cell_type": "markdown",
      "source": [],
      "metadata": {
        "id": "F8pDNE5N8wux"
      }
    },
    {
      "cell_type": "code",
      "source": [],
      "metadata": {
        "id": "RTPFHkdu8xne"
      },
      "execution_count": 172,
      "outputs": []
    },
    {
      "cell_type": "markdown",
      "source": [],
      "metadata": {
        "id": "V0UPkPMm8yGG"
      }
    },
    {
      "cell_type": "code",
      "source": [],
      "metadata": {
        "id": "sYCeeTI68yhx"
      },
      "execution_count": 172,
      "outputs": []
    }
  ]
}