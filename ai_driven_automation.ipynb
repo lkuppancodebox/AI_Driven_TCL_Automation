{
  "nbformat": 4,
  "nbformat_minor": 0,
  "metadata": {
    "colab": {
      "provenance": [],
      "authorship_tag": "ABX9TyMdJSL+6uA/xczsw6QPxDXk",
      "include_colab_link": true
    },
    "kernelspec": {
      "name": "python3",
      "display_name": "Python 3"
    },
    "language_info": {
      "name": "python"
    }
  },
  "cells": [
    {
      "cell_type": "markdown",
      "metadata": {
        "id": "view-in-github",
        "colab_type": "text"
      },
      "source": [
        "<a href=\"https://colab.research.google.com/github/lkuppancodebox/AI_Driven_TCL_Automation/blob/main/ai_driven_automation.ipynb\" target=\"_parent\"><img src=\"https://colab.research.google.com/assets/colab-badge.svg\" alt=\"Open In Colab\"/></a>"
      ]
    },
    {
      "cell_type": "code",
      "execution_count": null,
      "metadata": {
        "id": "hS6twKrG6Bqo"
      },
      "outputs": [],
      "source": [
        "import pandas as pd\n",
        "import json\n",
        "import ast  # To safely evaluate dictionary strings\n",
        "import sys\n",
        "#from google.colab import drive\n",
        "#drive.mount('/content/drive')\n",
        "sys.path.append('/content/drive/MyDrive/Colab Notebooks/training_data_set')\n",
        "from gen_prompt import test_block_template, test_script_template, tclLib2Json, generate_prompt\n"
      ]
    },
    {
      "cell_type": "code",
      "source": [
        "pip install google-generativeai"
      ],
      "metadata": {
        "colab": {
          "base_uri": "https://localhost:8080/"
        },
        "id": "UczuPXD4DVDM",
        "outputId": "ec6ae299-949d-4cd1-8e32-bd86df2579f6"
      },
      "execution_count": null,
      "outputs": [
        {
          "output_type": "stream",
          "name": "stdout",
          "text": [
            "Requirement already satisfied: google-generativeai in /usr/local/lib/python3.11/dist-packages (0.8.4)\n",
            "Requirement already satisfied: google-ai-generativelanguage==0.6.15 in /usr/local/lib/python3.11/dist-packages (from google-generativeai) (0.6.15)\n",
            "Requirement already satisfied: google-api-core in /usr/local/lib/python3.11/dist-packages (from google-generativeai) (2.24.2)\n",
            "Requirement already satisfied: google-api-python-client in /usr/local/lib/python3.11/dist-packages (from google-generativeai) (2.164.0)\n",
            "Requirement already satisfied: google-auth>=2.15.0 in /usr/local/lib/python3.11/dist-packages (from google-generativeai) (2.38.0)\n",
            "Requirement already satisfied: protobuf in /usr/local/lib/python3.11/dist-packages (from google-generativeai) (5.29.4)\n",
            "Requirement already satisfied: pydantic in /usr/local/lib/python3.11/dist-packages (from google-generativeai) (2.10.6)\n",
            "Requirement already satisfied: tqdm in /usr/local/lib/python3.11/dist-packages (from google-generativeai) (4.67.1)\n",
            "Requirement already satisfied: typing-extensions in /usr/local/lib/python3.11/dist-packages (from google-generativeai) (4.12.2)\n",
            "Requirement already satisfied: proto-plus<2.0.0dev,>=1.22.3 in /usr/local/lib/python3.11/dist-packages (from google-ai-generativelanguage==0.6.15->google-generativeai) (1.26.1)\n",
            "Requirement already satisfied: googleapis-common-protos<2.0.0,>=1.56.2 in /usr/local/lib/python3.11/dist-packages (from google-api-core->google-generativeai) (1.69.2)\n",
            "Requirement already satisfied: requests<3.0.0,>=2.18.0 in /usr/local/lib/python3.11/dist-packages (from google-api-core->google-generativeai) (2.32.3)\n",
            "Requirement already satisfied: cachetools<6.0,>=2.0.0 in /usr/local/lib/python3.11/dist-packages (from google-auth>=2.15.0->google-generativeai) (5.5.2)\n",
            "Requirement already satisfied: pyasn1-modules>=0.2.1 in /usr/local/lib/python3.11/dist-packages (from google-auth>=2.15.0->google-generativeai) (0.4.1)\n",
            "Requirement already satisfied: rsa<5,>=3.1.4 in /usr/local/lib/python3.11/dist-packages (from google-auth>=2.15.0->google-generativeai) (4.9)\n",
            "Requirement already satisfied: httplib2<1.dev0,>=0.19.0 in /usr/local/lib/python3.11/dist-packages (from google-api-python-client->google-generativeai) (0.22.0)\n",
            "Requirement already satisfied: google-auth-httplib2<1.0.0,>=0.2.0 in /usr/local/lib/python3.11/dist-packages (from google-api-python-client->google-generativeai) (0.2.0)\n",
            "Requirement already satisfied: uritemplate<5,>=3.0.1 in /usr/local/lib/python3.11/dist-packages (from google-api-python-client->google-generativeai) (4.1.1)\n",
            "Requirement already satisfied: annotated-types>=0.6.0 in /usr/local/lib/python3.11/dist-packages (from pydantic->google-generativeai) (0.7.0)\n",
            "Requirement already satisfied: pydantic-core==2.27.2 in /usr/local/lib/python3.11/dist-packages (from pydantic->google-generativeai) (2.27.2)\n",
            "Requirement already satisfied: grpcio<2.0dev,>=1.33.2 in /usr/local/lib/python3.11/dist-packages (from google-api-core[grpc]!=2.0.*,!=2.1.*,!=2.10.*,!=2.2.*,!=2.3.*,!=2.4.*,!=2.5.*,!=2.6.*,!=2.7.*,!=2.8.*,!=2.9.*,<3.0.0dev,>=1.34.1->google-ai-generativelanguage==0.6.15->google-generativeai) (1.71.0)\n",
            "Requirement already satisfied: grpcio-status<2.0.dev0,>=1.33.2 in /usr/local/lib/python3.11/dist-packages (from google-api-core[grpc]!=2.0.*,!=2.1.*,!=2.10.*,!=2.2.*,!=2.3.*,!=2.4.*,!=2.5.*,!=2.6.*,!=2.7.*,!=2.8.*,!=2.9.*,<3.0.0dev,>=1.34.1->google-ai-generativelanguage==0.6.15->google-generativeai) (1.71.0)\n",
            "Requirement already satisfied: pyparsing!=3.0.0,!=3.0.1,!=3.0.2,!=3.0.3,<4,>=2.4.2 in /usr/local/lib/python3.11/dist-packages (from httplib2<1.dev0,>=0.19.0->google-api-python-client->google-generativeai) (3.2.1)\n",
            "Requirement already satisfied: pyasn1<0.7.0,>=0.4.6 in /usr/local/lib/python3.11/dist-packages (from pyasn1-modules>=0.2.1->google-auth>=2.15.0->google-generativeai) (0.6.1)\n",
            "Requirement already satisfied: charset-normalizer<4,>=2 in /usr/local/lib/python3.11/dist-packages (from requests<3.0.0,>=2.18.0->google-api-core->google-generativeai) (3.4.1)\n",
            "Requirement already satisfied: idna<4,>=2.5 in /usr/local/lib/python3.11/dist-packages (from requests<3.0.0,>=2.18.0->google-api-core->google-generativeai) (3.10)\n",
            "Requirement already satisfied: urllib3<3,>=1.21.1 in /usr/local/lib/python3.11/dist-packages (from requests<3.0.0,>=2.18.0->google-api-core->google-generativeai) (2.3.0)\n",
            "Requirement already satisfied: certifi>=2017.4.17 in /usr/local/lib/python3.11/dist-packages (from requests<3.0.0,>=2.18.0->google-api-core->google-generativeai) (2025.1.31)\n"
          ]
        }
      ]
    },
    {
      "cell_type": "code",
      "source": [
        "import google.generativeai as genai\n",
        "#from google.colab import drive\n",
        "#drive.mount('/content/drive')\n",
        "import os\n",
        "\n",
        "def Authenticate_model():\n",
        "  # Set your Google Gemini API Key here\n",
        "  with open('/content/drive/MyDrive/Colab Notebooks/training_data_set/api_key.txt', 'r') as file:\n",
        "      API_KEY = file.read().strip()\n",
        "\n",
        "  # Configure the API key\n",
        "  genai.configure(api_key=API_KEY)\n",
        "\n",
        "  # Initialize the model\n",
        "  model = genai.GenerativeModel(\"gemini-2.0-flash\")  # Using Gemini Pro model\n",
        "  return model\n",
        "\n",
        "def Genereate_exos_tcl_automation(model, prompt):\n",
        "    try:\n",
        "        response = model.generate_content(prompt)\n",
        "        print(response)\n",
        "        return response.text  # Extract text response\n",
        "    except Exception as e:\n",
        "        return f\"Error: {str(e)}\""
      ],
      "metadata": {
        "id": "WQIfzXVFD44i"
      },
      "execution_count": null,
      "outputs": []
    },
    {
      "cell_type": "code",
      "source": [
        "if __name__ == \"__main__\":\n",
        "\n",
        "  # Read Test Plan from the text file (query)\n",
        "\n",
        "  fid = open(\"/content/drive/MyDrive/Colab Notebooks/training_data_set/Automation_testplan.txt\", \"r\")\n",
        "  query = fid.read()\n",
        "  fid.close()\n",
        "\n",
        "  # Generate TCL Lib into JSON\n",
        "  tcl_lib_json_dataset = tclLib2Json()\n",
        "\n",
        "  # Generate prompt based on test plan and tcl lib\n",
        "  prompt = generate_prompt(query, tcl_lib_json_dataset)\n",
        "\n",
        "  # Initiate Model and generate tcl script\n",
        "  model = Authenticate_model()\n",
        "  response = Genereate_exos_tcl_automation(model, prompt)\n",
        "\n",
        "  # Remove junk and filter script file name\n",
        "  tcl_content=''\n",
        "  for eachline in response.split(\"\\n\"):\n",
        "    if \"proc\" in eachline:\n",
        "      filename = eachline.split(\" \")[1]\n",
        "    if  \"```\" in eachline:\n",
        "      continue\n",
        "    else:\n",
        "      tcl_content += eachline + \"\\n\"\n",
        "    tcl_filename = filename + \".tcl\"\n",
        "\n",
        "  # Write AI Response into the script file\n",
        "  with open('/content/drive/MyDrive/Colab Notebooks/Output/'+tcl_filename, 'w') as file:\n",
        "    file.write(tcl_content)\n",
        "\n",
        "  # Display generated script file\n",
        "  if os.path.exists('/content/drive/MyDrive/Colab Notebooks/Output/'+tcl_filename):\n",
        "      print(f\"File '/content/drive/MyDrive/Colab Notebooks/Output/{tcl_filename}' Generated Successlly !\")"
      ],
      "metadata": {
        "colab": {
          "base_uri": "https://localhost:8080/",
          "height": 523
        },
        "id": "w4tZYtefBc0Z",
        "outputId": "dd47819a-df63-4769-de66-cad72ecdd221"
      },
      "execution_count": null,
      "outputs": [
        {
          "output_type": "stream",
          "name": "stdout",
          "text": [
            "response:\n",
            "GenerateContentResponse(\n",
            "    done=True,\n",
            "    iterator=None,\n",
            "    result=protos.GenerateContentResponse({\n",
            "      \"candidates\": [\n",
            "        {\n",
            "          \"content\": {\n",
            "            \"parts\": [\n",
            "              {\n",
            "                \"text\": \"```tcl\\nproc F-11212121 {} {\\n\\nset testcase_id \\\"F-11212121\\\"\\nset TestCaseTitle \\\"$testcase_id: To create/verify/delete vlans\\\"\\n\\n# ----- Declare global variables first\\nglobal DUT1_CONNECT\\nglobal DUT2_CONNECT\\nglobal DUTs_info\\n\\nset fd_res [open_result_file \\\"$testcase_id\\\"]\\nset time1 [clock seconds]\\n\\n  ### Test case start block\\n  result_h1 \\\"$TestCaseTitle\\\"\\n  report_start_test \\\"$TestCaseTitle\\\"\\n\\n    ### test step block 1\\n    set subTestTitle \\\"Step 1: Create VLANs on DUT1 and configure DUT2\\\"\\n    result_h2 \\\"$subTestTitle\\\" ;# Print test step title\\n    report_start_test \\\"$subTestTitle\\\" ;# Test step start block\\n\\n    Login $DUT1_CONNECT\\n    SendACmd \\\"create vlan 2-4094\\\"\\n\\n    Login $DUT2_CONNECT\\n    SendACmd \\\"configure vlan default delete port all\\\"\\n    SendACmd \\\"disable port all\\\"\\n\\n    report_end_test ;# Test step end block\\n\\n    ### test step block 2\\n    set subTestTitle \\\"Step 2: Configure VLAN tagging on DUT1\\\"\\n    result_h2 \\\"$subTestTitle\\\" ;# Print test step title\\n    report_start_test \\\"$subTestTitle\\\" ;# Test step start block\\n\\n    Login $DUT1_CONNECT\\n    SendACmd \\\"configure vlan 1-4094 add port 1:1 tagged\\\"\\n\\n    report_end_test ;# Test step end block\\n\\n    ### test step block 3\\n    set subTestTitle \\\"Step 3: Display VLAN configuration on DUT1 and DUT2\\\"\\n    result_h2 \\\"$subTestTitle\\\" ;# Print test step title\\n    report_start_test \\\"$subTestTitle\\\" ;# Test step start block\\n\\n    Login $DUT1_CONNECT\\n    SendACmd \\\"show vlan\\\"\\n\\n    Login $DUT2_CONNECT\\n    SendACmd \\\"show vlan\\\"\\n\\n    report_end_test ;# Test step end block\\n\\n    ### test step block 4\\n    set subTestTitle \\\"Step 4: Clean up DUTs\\\"\\n    result_h2 \\\"$subTestTitle\\\" ;# Print test step title\\n    report_start_test \\\"$subTestTitle\\\" ;# Test step start block\\n\\n    Login $DUT1_CONNECT\\n    SendACmd \\\"delete vlan 2-4094\\\"\\n\\n    Login $DUT2_CONNECT\\n    SendACmd \\\"enable port all\\\"\\n    SendACmd \\\"configure vlan default add port all\\\"\\n\\n    report_end_test ;# Test step end block\\n\\n  set time2 [clock seconds]\\n  result_p \\\"*** Time for $testcase_id = [expr $time2-$time1] secs\\n\\n\\\"\\n  close_result_file\\n  report_end_test\\n  ### Test case end block\\n}\\n```\"\n",
            "              }\n",
            "            ],\n",
            "            \"role\": \"model\"\n",
            "          },\n",
            "          \"finish_reason\": \"STOP\",\n",
            "          \"avg_logprobs\": -0.011605236903730646\n",
            "        }\n",
            "      ],\n",
            "      \"usage_metadata\": {\n",
            "        \"prompt_token_count\": 1346,\n",
            "        \"candidates_token_count\": 664,\n",
            "        \"total_token_count\": 2010\n",
            "      },\n",
            "      \"model_version\": \"gemini-2.0-flash\"\n",
            "    }),\n",
            ")\n",
            "File '/content/drive/MyDrive/Colab Notebooks/Output/F-11212121.tcl' Generated Successlly !\n"
          ]
        }
      ]
    },
    {
      "cell_type": "markdown",
      "source": [],
      "metadata": {
        "id": "F8pDNE5N8wux"
      }
    },
    {
      "cell_type": "code",
      "source": [],
      "metadata": {
        "id": "RTPFHkdu8xne"
      },
      "execution_count": null,
      "outputs": []
    },
    {
      "cell_type": "markdown",
      "source": [],
      "metadata": {
        "id": "V0UPkPMm8yGG"
      }
    },
    {
      "cell_type": "code",
      "source": [],
      "metadata": {
        "id": "sYCeeTI68yhx"
      },
      "execution_count": null,
      "outputs": []
    }
  ]
}